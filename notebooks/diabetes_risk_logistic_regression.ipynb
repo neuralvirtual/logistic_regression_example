{
 "cells": [
  {
   "cell_type": "markdown",
   "id": "e9f1e3c1",
   "metadata": {},
   "source": [
    "# Diabetes Risk Prediction Using Logistic Regression\n",
    "This notebook demonstrates a simple logistic regression model to predict diabetes risk based on age, BMI, and blood pressure.\n",
    "\n",
    "We will:\n",
    "1. Define and train a logistic regression model.\n",
    "2. Use user input to make predictions.\n",
    "3. Display the risk probability and classification."
   ]
  },
  {
   "cell_type": "code",
   "execution_count": null,
   "id": "1d47eab2",
   "metadata": {},
   "outputs": [],
   "source": [
    "import numpy as np\n",
    "from sklearn.linear_model import LogisticRegression\n",
    "\n",
    "# Sample data (age, BMI, blood pressure)\n",
    "# Target: 1 = at risk of diabetes, 0 = no risk\n",
    "X = np.array([\n",
    "    [25, 22, 80],\n",
    "    [45, 28, 90],\n",
    "    [35, 30, 85],\n",
    "    [50, 32, 95],\n",
    "    [23, 24, 70],\n",
    "    [40, 27, 88]\n",
    "])\n",
    "y = np.array([0, 1, 1, 1, 0, 1])\n",
    "\n",
    "# Create and train logistic regression model\n",
    "model = LogisticRegression()\n",
    "model.fit(X, y)\n",
    "\n",
    "print('Model trained successfully!')\n"
   ]
  },
  {
   "cell_type": "markdown",
   "id": "f54e18f0",
   "metadata": {},
   "source": [
    "## User Input for Prediction\n",
    "The user will enter their age, BMI, and blood pressure to get a prediction."
   ]
  },
  {
   "cell_type": "code",
   "execution_count": null,
   "id": "a31dbd2b",
   "metadata": {},
   "outputs": [],
   "source": [
    "age = int(input('Enter your age: '))\n",
    "bmi = float(input('Enter your BMI: '))\n",
    "bp = float(input('Enter your blood pressure: '))\n",
    "\n",
    "user_data = np.array([[age, bmi, bp]])\n",
    "risk_prob = model.predict_proba(user_data)[0, 1]\n",
    "risk_class = model.predict(user_data)[0]\n",
    "\n",
    "print(f'\\nRisk probability of diabetes: {risk_prob:.2f}')\n",
    "if risk_class == 1:\n",
    "    print('Based on the data, you are at risk of diabetes.')\n",
    "else:\n",
    "    print('Based on the data, you are not at risk of diabetes.')\n"
   ]
  },
  {
   "cell_type": "markdown",
   "id": "4c3b55c8",
   "metadata": {},
   "source": [
    "## Explanation\n",
    "- **Logistic Regression** is used here to classify if the user is at risk of diabetes based on three features: age, BMI, and blood pressure.\n",
    "- The model outputs a probability score from 0 to 1.\n",
    "- A threshold of 0.5 is used to decide if the user is at risk (1) or not (0)."
   ]
  }
 ],
 "metadata": {
  "language_info": {
   "name": "python"
  }
 },
 "nbformat": 4,
 "nbformat_minor": 5
}
